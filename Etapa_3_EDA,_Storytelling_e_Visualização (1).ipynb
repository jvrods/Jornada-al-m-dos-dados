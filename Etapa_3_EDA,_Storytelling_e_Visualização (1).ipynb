{
  "nbformat": 4,
  "nbformat_minor": 0,
  "metadata": {
    "colab": {
      "name": "Etapa 3 - EDA, Storytelling e Visualização.ipynb",
      "provenance": []
    },
    "kernelspec": {
      "name": "python3",
      "display_name": "Python 3"
    },
    "language_info": {
      "name": "python"
    }
  },
  "cells": [
    {
      "cell_type": "markdown",
      "source": [
        "### Etapa 3 - EDA, Storytelling e Visualização"
      ],
      "metadata": {
        "id": "dD3d1AAfhj5K"
      }
    },
    {
      "cell_type": "markdown",
      "source": [
        "# Nova seção"
      ],
      "metadata": {
        "id": "r18F2uobFYkb"
      }
    },
    {
      "cell_type": "code",
      "source": [
        "import pandas as pd\n",
        "\n",
        "import re"
      ],
      "metadata": {
        "id": "xftbnJvyYgcw"
      },
      "execution_count": 7,
      "outputs": []
    },
    {
      "cell_type": "code",
      "source": [
        "dataframe_final_candidatos = pd.read_csv(\"dataframe_final_candidatos.csv\")"
      ],
      "metadata": {
        "id": "ih7NVwZSh3yD"
      },
      "execution_count": 8,
      "outputs": []
    },
    {
      "cell_type": "code",
      "source": [
        "from google.colab import drive\n",
        "drive.mount('/content/drive')"
      ],
      "metadata": {
        "id": "O9X6i3PJF-sl",
        "colab": {
          "base_uri": "https://localhost:8080/"
        },
        "outputId": "6cfc116d-35c6-4b81-c606-c48e4b791c2f"
      },
      "execution_count": 9,
      "outputs": [
        {
          "output_type": "stream",
          "name": "stdout",
          "text": [
            "Drive already mounted at /content/drive; to attempt to forcibly remount, call drive.mount(\"/content/drive\", force_remount=True).\n"
          ]
        }
      ]
    },
    {
      "cell_type": "code",
      "source": [
        "dataframe_final_candidatos.head()"
      ],
      "metadata": {
        "id": "93Kh7tvCiIvc",
        "colab": {
          "base_uri": "https://localhost:8080/",
          "height": 337
        },
        "outputId": "4d16adc5-ee84-48cd-c3ad-0608eb23e317"
      },
      "execution_count": 10,
      "outputs": [
        {
          "output_type": "execute_result",
          "data": {
            "text/plain": [
              "                   Data_Hora              IdTweet  \\\n",
              "0  2022-07-31 15:56:44+00:00  1553771653435367424   \n",
              "1  2022-07-31 15:56:43+00:00  1553771651052994560   \n",
              "2  2022-07-31 15:56:42+00:00  1553771643922677760   \n",
              "3  2022-07-31 15:56:41+00:00  1553771642270191618   \n",
              "4  2022-07-31 15:56:41+00:00  1553771642094067712   \n",
              "\n",
              "                                               Tweet Candidato  \n",
              "0  @DeputadoFederal @LulaOficial https://t.co/WIm...      Lula  \n",
              "1  @LulaOficial Reconstruir o que? Bolsonaro já f...      Lula  \n",
              "2             @ThiagoResiste Lula Presidente 2022 !!      Lula  \n",
              "3           @inst_lula Esse e Meu presidente e LULA!      Lula  \n",
              "4  @LulaOficial @ricardostuckert Kkkkkkkk. Piada ...      Lula  "
            ],
            "text/html": [
              "\n",
              "  <div id=\"df-0374bb1e-5c22-4cbe-baa8-bdf6c466953b\">\n",
              "    <div class=\"colab-df-container\">\n",
              "      <div>\n",
              "<style scoped>\n",
              "    .dataframe tbody tr th:only-of-type {\n",
              "        vertical-align: middle;\n",
              "    }\n",
              "\n",
              "    .dataframe tbody tr th {\n",
              "        vertical-align: top;\n",
              "    }\n",
              "\n",
              "    .dataframe thead th {\n",
              "        text-align: right;\n",
              "    }\n",
              "</style>\n",
              "<table border=\"1\" class=\"dataframe\">\n",
              "  <thead>\n",
              "    <tr style=\"text-align: right;\">\n",
              "      <th></th>\n",
              "      <th>Data_Hora</th>\n",
              "      <th>IdTweet</th>\n",
              "      <th>Tweet</th>\n",
              "      <th>Candidato</th>\n",
              "    </tr>\n",
              "  </thead>\n",
              "  <tbody>\n",
              "    <tr>\n",
              "      <th>0</th>\n",
              "      <td>2022-07-31 15:56:44+00:00</td>\n",
              "      <td>1553771653435367424</td>\n",
              "      <td>@DeputadoFederal @LulaOficial https://t.co/WIm...</td>\n",
              "      <td>Lula</td>\n",
              "    </tr>\n",
              "    <tr>\n",
              "      <th>1</th>\n",
              "      <td>2022-07-31 15:56:43+00:00</td>\n",
              "      <td>1553771651052994560</td>\n",
              "      <td>@LulaOficial Reconstruir o que? Bolsonaro já f...</td>\n",
              "      <td>Lula</td>\n",
              "    </tr>\n",
              "    <tr>\n",
              "      <th>2</th>\n",
              "      <td>2022-07-31 15:56:42+00:00</td>\n",
              "      <td>1553771643922677760</td>\n",
              "      <td>@ThiagoResiste Lula Presidente 2022 !!</td>\n",
              "      <td>Lula</td>\n",
              "    </tr>\n",
              "    <tr>\n",
              "      <th>3</th>\n",
              "      <td>2022-07-31 15:56:41+00:00</td>\n",
              "      <td>1553771642270191618</td>\n",
              "      <td>@inst_lula Esse e Meu presidente e LULA!</td>\n",
              "      <td>Lula</td>\n",
              "    </tr>\n",
              "    <tr>\n",
              "      <th>4</th>\n",
              "      <td>2022-07-31 15:56:41+00:00</td>\n",
              "      <td>1553771642094067712</td>\n",
              "      <td>@LulaOficial @ricardostuckert Kkkkkkkk. Piada ...</td>\n",
              "      <td>Lula</td>\n",
              "    </tr>\n",
              "  </tbody>\n",
              "</table>\n",
              "</div>\n",
              "      <button class=\"colab-df-convert\" onclick=\"convertToInteractive('df-0374bb1e-5c22-4cbe-baa8-bdf6c466953b')\"\n",
              "              title=\"Convert this dataframe to an interactive table.\"\n",
              "              style=\"display:none;\">\n",
              "        \n",
              "  <svg xmlns=\"http://www.w3.org/2000/svg\" height=\"24px\"viewBox=\"0 0 24 24\"\n",
              "       width=\"24px\">\n",
              "    <path d=\"M0 0h24v24H0V0z\" fill=\"none\"/>\n",
              "    <path d=\"M18.56 5.44l.94 2.06.94-2.06 2.06-.94-2.06-.94-.94-2.06-.94 2.06-2.06.94zm-11 1L8.5 8.5l.94-2.06 2.06-.94-2.06-.94L8.5 2.5l-.94 2.06-2.06.94zm10 10l.94 2.06.94-2.06 2.06-.94-2.06-.94-.94-2.06-.94 2.06-2.06.94z\"/><path d=\"M17.41 7.96l-1.37-1.37c-.4-.4-.92-.59-1.43-.59-.52 0-1.04.2-1.43.59L10.3 9.45l-7.72 7.72c-.78.78-.78 2.05 0 2.83L4 21.41c.39.39.9.59 1.41.59.51 0 1.02-.2 1.41-.59l7.78-7.78 2.81-2.81c.8-.78.8-2.07 0-2.86zM5.41 20L4 18.59l7.72-7.72 1.47 1.35L5.41 20z\"/>\n",
              "  </svg>\n",
              "      </button>\n",
              "      \n",
              "  <style>\n",
              "    .colab-df-container {\n",
              "      display:flex;\n",
              "      flex-wrap:wrap;\n",
              "      gap: 12px;\n",
              "    }\n",
              "\n",
              "    .colab-df-convert {\n",
              "      background-color: #E8F0FE;\n",
              "      border: none;\n",
              "      border-radius: 50%;\n",
              "      cursor: pointer;\n",
              "      display: none;\n",
              "      fill: #1967D2;\n",
              "      height: 32px;\n",
              "      padding: 0 0 0 0;\n",
              "      width: 32px;\n",
              "    }\n",
              "\n",
              "    .colab-df-convert:hover {\n",
              "      background-color: #E2EBFA;\n",
              "      box-shadow: 0px 1px 2px rgba(60, 64, 67, 0.3), 0px 1px 3px 1px rgba(60, 64, 67, 0.15);\n",
              "      fill: #174EA6;\n",
              "    }\n",
              "\n",
              "    [theme=dark] .colab-df-convert {\n",
              "      background-color: #3B4455;\n",
              "      fill: #D2E3FC;\n",
              "    }\n",
              "\n",
              "    [theme=dark] .colab-df-convert:hover {\n",
              "      background-color: #434B5C;\n",
              "      box-shadow: 0px 1px 3px 1px rgba(0, 0, 0, 0.15);\n",
              "      filter: drop-shadow(0px 1px 2px rgba(0, 0, 0, 0.3));\n",
              "      fill: #FFFFFF;\n",
              "    }\n",
              "  </style>\n",
              "\n",
              "      <script>\n",
              "        const buttonEl =\n",
              "          document.querySelector('#df-0374bb1e-5c22-4cbe-baa8-bdf6c466953b button.colab-df-convert');\n",
              "        buttonEl.style.display =\n",
              "          google.colab.kernel.accessAllowed ? 'block' : 'none';\n",
              "\n",
              "        async function convertToInteractive(key) {\n",
              "          const element = document.querySelector('#df-0374bb1e-5c22-4cbe-baa8-bdf6c466953b');\n",
              "          const dataTable =\n",
              "            await google.colab.kernel.invokeFunction('convertToInteractive',\n",
              "                                                     [key], {});\n",
              "          if (!dataTable) return;\n",
              "\n",
              "          const docLinkHtml = 'Like what you see? Visit the ' +\n",
              "            '<a target=\"_blank\" href=https://colab.research.google.com/notebooks/data_table.ipynb>data table notebook</a>'\n",
              "            + ' to learn more about interactive tables.';\n",
              "          element.innerHTML = '';\n",
              "          dataTable['output_type'] = 'display_data';\n",
              "          await google.colab.output.renderOutput(dataTable, element);\n",
              "          const docLink = document.createElement('div');\n",
              "          docLink.innerHTML = docLinkHtml;\n",
              "          element.appendChild(docLink);\n",
              "        }\n",
              "      </script>\n",
              "    </div>\n",
              "  </div>\n",
              "  "
            ]
          },
          "metadata": {},
          "execution_count": 10
        }
      ]
    },
    {
      "cell_type": "code",
      "source": [
        "dataframe_final_candidatos.info()"
      ],
      "metadata": {
        "id": "x2_Ad758iLf4",
        "colab": {
          "base_uri": "https://localhost:8080/"
        },
        "outputId": "5b796822-d032-46e6-fed8-0d89542c49bb"
      },
      "execution_count": 11,
      "outputs": [
        {
          "output_type": "stream",
          "name": "stdout",
          "text": [
            "<class 'pandas.core.frame.DataFrame'>\n",
            "RangeIndex: 153 entries, 0 to 152\n",
            "Data columns (total 4 columns):\n",
            " #   Column     Non-Null Count  Dtype \n",
            "---  ------     --------------  ----- \n",
            " 0   Data_Hora  153 non-null    object\n",
            " 1   IdTweet    153 non-null    int64 \n",
            " 2   Tweet      153 non-null    object\n",
            " 3   Candidato  153 non-null    object\n",
            "dtypes: int64(1), object(3)\n",
            "memory usage: 4.9+ KB\n"
          ]
        }
      ]
    },
    {
      "cell_type": "code",
      "source": [
        "dataframe_final_candidatos.isnull().sum()"
      ],
      "metadata": {
        "id": "G3PWFvD9iNiq",
        "colab": {
          "base_uri": "https://localhost:8080/"
        },
        "outputId": "8d54b629-0950-48e0-af85-8d8dac05fca2"
      },
      "execution_count": 12,
      "outputs": [
        {
          "output_type": "execute_result",
          "data": {
            "text/plain": [
              "Data_Hora    0\n",
              "IdTweet      0\n",
              "Tweet        0\n",
              "Candidato    0\n",
              "dtype: int64"
            ]
          },
          "metadata": {},
          "execution_count": 12
        }
      ]
    },
    {
      "cell_type": "code",
      "source": [
        "dataframe_final_candidatos['Tweet_limpo'] = dataframe_final_candidatos['Tweet']"
      ],
      "metadata": {
        "id": "xGJdJePLibTq"
      },
      "execution_count": 13,
      "outputs": []
    },
    {
      "cell_type": "code",
      "source": [
        "dataframe_final_candidatos.head()"
      ],
      "metadata": {
        "id": "5bRYtixZis24",
        "colab": {
          "base_uri": "https://localhost:8080/",
          "height": 444
        },
        "outputId": "5998f72c-e29b-4cf8-94fb-e76aec47413d"
      },
      "execution_count": 14,
      "outputs": [
        {
          "output_type": "execute_result",
          "data": {
            "text/plain": [
              "                   Data_Hora              IdTweet  \\\n",
              "0  2022-07-31 15:56:44+00:00  1553771653435367424   \n",
              "1  2022-07-31 15:56:43+00:00  1553771651052994560   \n",
              "2  2022-07-31 15:56:42+00:00  1553771643922677760   \n",
              "3  2022-07-31 15:56:41+00:00  1553771642270191618   \n",
              "4  2022-07-31 15:56:41+00:00  1553771642094067712   \n",
              "\n",
              "                                               Tweet Candidato  \\\n",
              "0  @DeputadoFederal @LulaOficial https://t.co/WIm...      Lula   \n",
              "1  @LulaOficial Reconstruir o que? Bolsonaro já f...      Lula   \n",
              "2             @ThiagoResiste Lula Presidente 2022 !!      Lula   \n",
              "3           @inst_lula Esse e Meu presidente e LULA!      Lula   \n",
              "4  @LulaOficial @ricardostuckert Kkkkkkkk. Piada ...      Lula   \n",
              "\n",
              "                                         Tweet_limpo  \n",
              "0  @DeputadoFederal @LulaOficial https://t.co/WIm...  \n",
              "1  @LulaOficial Reconstruir o que? Bolsonaro já f...  \n",
              "2             @ThiagoResiste Lula Presidente 2022 !!  \n",
              "3           @inst_lula Esse e Meu presidente e LULA!  \n",
              "4  @LulaOficial @ricardostuckert Kkkkkkkk. Piada ...  "
            ],
            "text/html": [
              "\n",
              "  <div id=\"df-8900062a-520d-4e9a-ae68-5adc16ca4204\">\n",
              "    <div class=\"colab-df-container\">\n",
              "      <div>\n",
              "<style scoped>\n",
              "    .dataframe tbody tr th:only-of-type {\n",
              "        vertical-align: middle;\n",
              "    }\n",
              "\n",
              "    .dataframe tbody tr th {\n",
              "        vertical-align: top;\n",
              "    }\n",
              "\n",
              "    .dataframe thead th {\n",
              "        text-align: right;\n",
              "    }\n",
              "</style>\n",
              "<table border=\"1\" class=\"dataframe\">\n",
              "  <thead>\n",
              "    <tr style=\"text-align: right;\">\n",
              "      <th></th>\n",
              "      <th>Data_Hora</th>\n",
              "      <th>IdTweet</th>\n",
              "      <th>Tweet</th>\n",
              "      <th>Candidato</th>\n",
              "      <th>Tweet_limpo</th>\n",
              "    </tr>\n",
              "  </thead>\n",
              "  <tbody>\n",
              "    <tr>\n",
              "      <th>0</th>\n",
              "      <td>2022-07-31 15:56:44+00:00</td>\n",
              "      <td>1553771653435367424</td>\n",
              "      <td>@DeputadoFederal @LulaOficial https://t.co/WIm...</td>\n",
              "      <td>Lula</td>\n",
              "      <td>@DeputadoFederal @LulaOficial https://t.co/WIm...</td>\n",
              "    </tr>\n",
              "    <tr>\n",
              "      <th>1</th>\n",
              "      <td>2022-07-31 15:56:43+00:00</td>\n",
              "      <td>1553771651052994560</td>\n",
              "      <td>@LulaOficial Reconstruir o que? Bolsonaro já f...</td>\n",
              "      <td>Lula</td>\n",
              "      <td>@LulaOficial Reconstruir o que? Bolsonaro já f...</td>\n",
              "    </tr>\n",
              "    <tr>\n",
              "      <th>2</th>\n",
              "      <td>2022-07-31 15:56:42+00:00</td>\n",
              "      <td>1553771643922677760</td>\n",
              "      <td>@ThiagoResiste Lula Presidente 2022 !!</td>\n",
              "      <td>Lula</td>\n",
              "      <td>@ThiagoResiste Lula Presidente 2022 !!</td>\n",
              "    </tr>\n",
              "    <tr>\n",
              "      <th>3</th>\n",
              "      <td>2022-07-31 15:56:41+00:00</td>\n",
              "      <td>1553771642270191618</td>\n",
              "      <td>@inst_lula Esse e Meu presidente e LULA!</td>\n",
              "      <td>Lula</td>\n",
              "      <td>@inst_lula Esse e Meu presidente e LULA!</td>\n",
              "    </tr>\n",
              "    <tr>\n",
              "      <th>4</th>\n",
              "      <td>2022-07-31 15:56:41+00:00</td>\n",
              "      <td>1553771642094067712</td>\n",
              "      <td>@LulaOficial @ricardostuckert Kkkkkkkk. Piada ...</td>\n",
              "      <td>Lula</td>\n",
              "      <td>@LulaOficial @ricardostuckert Kkkkkkkk. Piada ...</td>\n",
              "    </tr>\n",
              "  </tbody>\n",
              "</table>\n",
              "</div>\n",
              "      <button class=\"colab-df-convert\" onclick=\"convertToInteractive('df-8900062a-520d-4e9a-ae68-5adc16ca4204')\"\n",
              "              title=\"Convert this dataframe to an interactive table.\"\n",
              "              style=\"display:none;\">\n",
              "        \n",
              "  <svg xmlns=\"http://www.w3.org/2000/svg\" height=\"24px\"viewBox=\"0 0 24 24\"\n",
              "       width=\"24px\">\n",
              "    <path d=\"M0 0h24v24H0V0z\" fill=\"none\"/>\n",
              "    <path d=\"M18.56 5.44l.94 2.06.94-2.06 2.06-.94-2.06-.94-.94-2.06-.94 2.06-2.06.94zm-11 1L8.5 8.5l.94-2.06 2.06-.94-2.06-.94L8.5 2.5l-.94 2.06-2.06.94zm10 10l.94 2.06.94-2.06 2.06-.94-2.06-.94-.94-2.06-.94 2.06-2.06.94z\"/><path d=\"M17.41 7.96l-1.37-1.37c-.4-.4-.92-.59-1.43-.59-.52 0-1.04.2-1.43.59L10.3 9.45l-7.72 7.72c-.78.78-.78 2.05 0 2.83L4 21.41c.39.39.9.59 1.41.59.51 0 1.02-.2 1.41-.59l7.78-7.78 2.81-2.81c.8-.78.8-2.07 0-2.86zM5.41 20L4 18.59l7.72-7.72 1.47 1.35L5.41 20z\"/>\n",
              "  </svg>\n",
              "      </button>\n",
              "      \n",
              "  <style>\n",
              "    .colab-df-container {\n",
              "      display:flex;\n",
              "      flex-wrap:wrap;\n",
              "      gap: 12px;\n",
              "    }\n",
              "\n",
              "    .colab-df-convert {\n",
              "      background-color: #E8F0FE;\n",
              "      border: none;\n",
              "      border-radius: 50%;\n",
              "      cursor: pointer;\n",
              "      display: none;\n",
              "      fill: #1967D2;\n",
              "      height: 32px;\n",
              "      padding: 0 0 0 0;\n",
              "      width: 32px;\n",
              "    }\n",
              "\n",
              "    .colab-df-convert:hover {\n",
              "      background-color: #E2EBFA;\n",
              "      box-shadow: 0px 1px 2px rgba(60, 64, 67, 0.3), 0px 1px 3px 1px rgba(60, 64, 67, 0.15);\n",
              "      fill: #174EA6;\n",
              "    }\n",
              "\n",
              "    [theme=dark] .colab-df-convert {\n",
              "      background-color: #3B4455;\n",
              "      fill: #D2E3FC;\n",
              "    }\n",
              "\n",
              "    [theme=dark] .colab-df-convert:hover {\n",
              "      background-color: #434B5C;\n",
              "      box-shadow: 0px 1px 3px 1px rgba(0, 0, 0, 0.15);\n",
              "      filter: drop-shadow(0px 1px 2px rgba(0, 0, 0, 0.3));\n",
              "      fill: #FFFFFF;\n",
              "    }\n",
              "  </style>\n",
              "\n",
              "      <script>\n",
              "        const buttonEl =\n",
              "          document.querySelector('#df-8900062a-520d-4e9a-ae68-5adc16ca4204 button.colab-df-convert');\n",
              "        buttonEl.style.display =\n",
              "          google.colab.kernel.accessAllowed ? 'block' : 'none';\n",
              "\n",
              "        async function convertToInteractive(key) {\n",
              "          const element = document.querySelector('#df-8900062a-520d-4e9a-ae68-5adc16ca4204');\n",
              "          const dataTable =\n",
              "            await google.colab.kernel.invokeFunction('convertToInteractive',\n",
              "                                                     [key], {});\n",
              "          if (!dataTable) return;\n",
              "\n",
              "          const docLinkHtml = 'Like what you see? Visit the ' +\n",
              "            '<a target=\"_blank\" href=https://colab.research.google.com/notebooks/data_table.ipynb>data table notebook</a>'\n",
              "            + ' to learn more about interactive tables.';\n",
              "          element.innerHTML = '';\n",
              "          dataTable['output_type'] = 'display_data';\n",
              "          await google.colab.output.renderOutput(dataTable, element);\n",
              "          const docLink = document.createElement('div');\n",
              "          docLink.innerHTML = docLinkHtml;\n",
              "          element.appendChild(docLink);\n",
              "        }\n",
              "      </script>\n",
              "    </div>\n",
              "  </div>\n",
              "  "
            ]
          },
          "metadata": {},
          "execution_count": 14
        }
      ]
    },
    {
      "cell_type": "code",
      "source": [
        "def limpeza_do_texto(tweet):\n",
        "  tweet = tweet.lower()\n",
        "  tweet = re.sub('\\n', '', tweet)\n",
        "  tweet = re.sub('@[^\\s]+', '', tweet)\n",
        "  tweet = re.sub('\\B#\\S+', '', tweet)\n",
        "  tweet = re.sub('https?://\\S+|www\\.\\S+', '', tweet)\n",
        "  return tweet"
      ],
      "metadata": {
        "id": "znPUtRSWitzr"
      },
      "execution_count": 15,
      "outputs": []
    },
    {
      "cell_type": "code",
      "source": [
        "dataframe_final_candidatos['Tweet_limpo'] = dataframe_final_candidatos['Tweet'].apply(lambda i:limpeza_do_texto(i))"
      ],
      "metadata": {
        "id": "HGrNOJwojNKL"
      },
      "execution_count": 16,
      "outputs": []
    },
    {
      "cell_type": "code",
      "source": [
        "dataframe_final_candidatos.head()"
      ],
      "metadata": {
        "id": "n0oqRED8jyZt",
        "colab": {
          "base_uri": "https://localhost:8080/",
          "height": 441
        },
        "outputId": "8af71a35-cff8-4fdc-805e-8e733fcf7b84"
      },
      "execution_count": 17,
      "outputs": [
        {
          "output_type": "execute_result",
          "data": {
            "text/plain": [
              "                   Data_Hora              IdTweet  \\\n",
              "0  2022-07-31 15:56:44+00:00  1553771653435367424   \n",
              "1  2022-07-31 15:56:43+00:00  1553771651052994560   \n",
              "2  2022-07-31 15:56:42+00:00  1553771643922677760   \n",
              "3  2022-07-31 15:56:41+00:00  1553771642270191618   \n",
              "4  2022-07-31 15:56:41+00:00  1553771642094067712   \n",
              "\n",
              "                                               Tweet Candidato  \\\n",
              "0  @DeputadoFederal @LulaOficial https://t.co/WIm...      Lula   \n",
              "1  @LulaOficial Reconstruir o que? Bolsonaro já f...      Lula   \n",
              "2             @ThiagoResiste Lula Presidente 2022 !!      Lula   \n",
              "3           @inst_lula Esse e Meu presidente e LULA!      Lula   \n",
              "4  @LulaOficial @ricardostuckert Kkkkkkkk. Piada ...      Lula   \n",
              "\n",
              "                                  Tweet_limpo  \n",
              "0                                              \n",
              "1   reconstruir o que? bolsonaro já fez isso.  \n",
              "2                     lula presidente 2022 !!  \n",
              "3               esse e meu presidente e lula!  \n",
              "4          kkkkkkkk. piada pronta de pilantra  "
            ],
            "text/html": [
              "\n",
              "  <div id=\"df-ff698b6f-31d0-4859-b1ee-a286cde41a2d\">\n",
              "    <div class=\"colab-df-container\">\n",
              "      <div>\n",
              "<style scoped>\n",
              "    .dataframe tbody tr th:only-of-type {\n",
              "        vertical-align: middle;\n",
              "    }\n",
              "\n",
              "    .dataframe tbody tr th {\n",
              "        vertical-align: top;\n",
              "    }\n",
              "\n",
              "    .dataframe thead th {\n",
              "        text-align: right;\n",
              "    }\n",
              "</style>\n",
              "<table border=\"1\" class=\"dataframe\">\n",
              "  <thead>\n",
              "    <tr style=\"text-align: right;\">\n",
              "      <th></th>\n",
              "      <th>Data_Hora</th>\n",
              "      <th>IdTweet</th>\n",
              "      <th>Tweet</th>\n",
              "      <th>Candidato</th>\n",
              "      <th>Tweet_limpo</th>\n",
              "    </tr>\n",
              "  </thead>\n",
              "  <tbody>\n",
              "    <tr>\n",
              "      <th>0</th>\n",
              "      <td>2022-07-31 15:56:44+00:00</td>\n",
              "      <td>1553771653435367424</td>\n",
              "      <td>@DeputadoFederal @LulaOficial https://t.co/WIm...</td>\n",
              "      <td>Lula</td>\n",
              "      <td></td>\n",
              "    </tr>\n",
              "    <tr>\n",
              "      <th>1</th>\n",
              "      <td>2022-07-31 15:56:43+00:00</td>\n",
              "      <td>1553771651052994560</td>\n",
              "      <td>@LulaOficial Reconstruir o que? Bolsonaro já f...</td>\n",
              "      <td>Lula</td>\n",
              "      <td>reconstruir o que? bolsonaro já fez isso.</td>\n",
              "    </tr>\n",
              "    <tr>\n",
              "      <th>2</th>\n",
              "      <td>2022-07-31 15:56:42+00:00</td>\n",
              "      <td>1553771643922677760</td>\n",
              "      <td>@ThiagoResiste Lula Presidente 2022 !!</td>\n",
              "      <td>Lula</td>\n",
              "      <td>lula presidente 2022 !!</td>\n",
              "    </tr>\n",
              "    <tr>\n",
              "      <th>3</th>\n",
              "      <td>2022-07-31 15:56:41+00:00</td>\n",
              "      <td>1553771642270191618</td>\n",
              "      <td>@inst_lula Esse e Meu presidente e LULA!</td>\n",
              "      <td>Lula</td>\n",
              "      <td>esse e meu presidente e lula!</td>\n",
              "    </tr>\n",
              "    <tr>\n",
              "      <th>4</th>\n",
              "      <td>2022-07-31 15:56:41+00:00</td>\n",
              "      <td>1553771642094067712</td>\n",
              "      <td>@LulaOficial @ricardostuckert Kkkkkkkk. Piada ...</td>\n",
              "      <td>Lula</td>\n",
              "      <td>kkkkkkkk. piada pronta de pilantra</td>\n",
              "    </tr>\n",
              "  </tbody>\n",
              "</table>\n",
              "</div>\n",
              "      <button class=\"colab-df-convert\" onclick=\"convertToInteractive('df-ff698b6f-31d0-4859-b1ee-a286cde41a2d')\"\n",
              "              title=\"Convert this dataframe to an interactive table.\"\n",
              "              style=\"display:none;\">\n",
              "        \n",
              "  <svg xmlns=\"http://www.w3.org/2000/svg\" height=\"24px\"viewBox=\"0 0 24 24\"\n",
              "       width=\"24px\">\n",
              "    <path d=\"M0 0h24v24H0V0z\" fill=\"none\"/>\n",
              "    <path d=\"M18.56 5.44l.94 2.06.94-2.06 2.06-.94-2.06-.94-.94-2.06-.94 2.06-2.06.94zm-11 1L8.5 8.5l.94-2.06 2.06-.94-2.06-.94L8.5 2.5l-.94 2.06-2.06.94zm10 10l.94 2.06.94-2.06 2.06-.94-2.06-.94-.94-2.06-.94 2.06-2.06.94z\"/><path d=\"M17.41 7.96l-1.37-1.37c-.4-.4-.92-.59-1.43-.59-.52 0-1.04.2-1.43.59L10.3 9.45l-7.72 7.72c-.78.78-.78 2.05 0 2.83L4 21.41c.39.39.9.59 1.41.59.51 0 1.02-.2 1.41-.59l7.78-7.78 2.81-2.81c.8-.78.8-2.07 0-2.86zM5.41 20L4 18.59l7.72-7.72 1.47 1.35L5.41 20z\"/>\n",
              "  </svg>\n",
              "      </button>\n",
              "      \n",
              "  <style>\n",
              "    .colab-df-container {\n",
              "      display:flex;\n",
              "      flex-wrap:wrap;\n",
              "      gap: 12px;\n",
              "    }\n",
              "\n",
              "    .colab-df-convert {\n",
              "      background-color: #E8F0FE;\n",
              "      border: none;\n",
              "      border-radius: 50%;\n",
              "      cursor: pointer;\n",
              "      display: none;\n",
              "      fill: #1967D2;\n",
              "      height: 32px;\n",
              "      padding: 0 0 0 0;\n",
              "      width: 32px;\n",
              "    }\n",
              "\n",
              "    .colab-df-convert:hover {\n",
              "      background-color: #E2EBFA;\n",
              "      box-shadow: 0px 1px 2px rgba(60, 64, 67, 0.3), 0px 1px 3px 1px rgba(60, 64, 67, 0.15);\n",
              "      fill: #174EA6;\n",
              "    }\n",
              "\n",
              "    [theme=dark] .colab-df-convert {\n",
              "      background-color: #3B4455;\n",
              "      fill: #D2E3FC;\n",
              "    }\n",
              "\n",
              "    [theme=dark] .colab-df-convert:hover {\n",
              "      background-color: #434B5C;\n",
              "      box-shadow: 0px 1px 3px 1px rgba(0, 0, 0, 0.15);\n",
              "      filter: drop-shadow(0px 1px 2px rgba(0, 0, 0, 0.3));\n",
              "      fill: #FFFFFF;\n",
              "    }\n",
              "  </style>\n",
              "\n",
              "      <script>\n",
              "        const buttonEl =\n",
              "          document.querySelector('#df-ff698b6f-31d0-4859-b1ee-a286cde41a2d button.colab-df-convert');\n",
              "        buttonEl.style.display =\n",
              "          google.colab.kernel.accessAllowed ? 'block' : 'none';\n",
              "\n",
              "        async function convertToInteractive(key) {\n",
              "          const element = document.querySelector('#df-ff698b6f-31d0-4859-b1ee-a286cde41a2d');\n",
              "          const dataTable =\n",
              "            await google.colab.kernel.invokeFunction('convertToInteractive',\n",
              "                                                     [key], {});\n",
              "          if (!dataTable) return;\n",
              "\n",
              "          const docLinkHtml = 'Like what you see? Visit the ' +\n",
              "            '<a target=\"_blank\" href=https://colab.research.google.com/notebooks/data_table.ipynb>data table notebook</a>'\n",
              "            + ' to learn more about interactive tables.';\n",
              "          element.innerHTML = '';\n",
              "          dataTable['output_type'] = 'display_data';\n",
              "          await google.colab.output.renderOutput(dataTable, element);\n",
              "          const docLink = document.createElement('div');\n",
              "          docLink.innerHTML = docLinkHtml;\n",
              "          element.appendChild(docLink);\n",
              "        }\n",
              "      </script>\n",
              "    </div>\n",
              "  </div>\n",
              "  "
            ]
          },
          "metadata": {},
          "execution_count": 17
        }
      ]
    },
    {
      "cell_type": "code",
      "source": [
        "dataframe_final_candidatos.to_csv('dataframe_final_candidatos_pronto_para_sentimento.csv', sep=',', index=False)"
      ],
      "metadata": {
        "id": "0k0Lydzqjz3g"
      },
      "execution_count": 18,
      "outputs": []
    },
    {
      "cell_type": "code",
      "source": [
        ""
      ],
      "metadata": {
        "id": "n-QHUeJck8Ly"
      },
      "execution_count": 18,
      "outputs": []
    }
  ]
}